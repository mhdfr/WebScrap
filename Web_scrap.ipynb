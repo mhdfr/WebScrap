{
 "cells": [
  {
   "cell_type": "code",
   "execution_count": 1,
   "metadata": {},
   "outputs": [],
   "source": [
    "from selenium import webdriver\n",
    "from selenium.webdriver.firefox.options import Options as FirefoxOptions\n",
    "from email.message import EmailMessage\n",
    "import pandas as pd\n",
    "from getpass import getpass\n",
    "import time\n",
    "from smtplib import SMTP\n",
    "from sys import exit\n",
    "\n",
    "listaips = open(\"listaips.txt\").read().splitlines()\n",
    "#listaips=[\"47.178.225.193\",\"186.252.133.112\"]\n",
    "\n",
    "for ip in listaips:\n",
    "    options = FirefoxOptions()\n",
    "    options.add_argument(\"--headless\")\n",
    "    driver = webdriver.Firefox(options=options)\n",
    "    driver.get(\"https://mxtoolbox.com/blacklists.aspx\")\n",
    "    driver.find_element_by_id('ctl00_ContentPlaceHolder1_ucToolhandler_txtToolInput').send_keys(ip)\n",
    "    driver.find_element_by_id('ctl00_ContentPlaceHolder1_ucToolhandler_btnAction').click()\n",
    "    time.sleep(6)\n",
    "    texto = driver.find_element_by_class_name('tool-result-body')\n",
    "    lista=texto.text\n",
    "    driver.quit()\n",
    "    if (lista.find('Listed 0 times') != -1): \n",
    "        pass \n",
    "    else:\n",
    "        smtp_server = 'yoursmtpserver.com'\n",
    "        username = 'youremail@yourdomain.com'\n",
    "        password = 'password'\n",
    "        port ='587'\n",
    "        sender = 'youremail@yourdomain.com'\n",
    "        destination = 'anotheremail@yourdomain.com'\n",
    "        subject = str(ip)+' IP Listado'\n",
    "        content =  str(ip)+' IP Listado'\n",
    "    \n",
    "    # Create a text/plain message\n",
    "        msg = EmailMessage()\n",
    "        msg.set_content(content)\n",
    "\n",
    "        msg['Subject'] = subject\n",
    "        msg['From'] = sender\n",
    "        msg['To'] = destination\n",
    "\n",
    "        try:\n",
    "            s = SMTP(smtp_server, port)\n",
    "            s.login(username, password)\n",
    "            try:\n",
    "                s.send_message(msg)\n",
    "            finally:\n",
    "                s.quit()\n",
    "\n",
    "        except Exception as E:\n",
    "            exit('Mail failed: {}'.format(str(E)))"
   ]
  },
  {
   "cell_type": "code",
   "execution_count": null,
   "metadata": {},
   "outputs": [],
   "source": []
  },
  {
   "cell_type": "code",
   "execution_count": null,
   "metadata": {},
   "outputs": [],
   "source": []
  }
 ],
 "metadata": {
  "kernelspec": {
   "display_name": "Python 3",
   "language": "python",
   "name": "python3"
  },
  "language_info": {
   "codemirror_mode": {
    "name": "ipython",
    "version": 3
   },
   "file_extension": ".py",
   "mimetype": "text/x-python",
   "name": "python",
   "nbconvert_exporter": "python",
   "pygments_lexer": "ipython3",
   "version": "3.7.3"
  }
 },
 "nbformat": 4,
 "nbformat_minor": 2
}
